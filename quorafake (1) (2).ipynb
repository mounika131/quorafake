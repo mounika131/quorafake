{
  "nbformat": 4,
  "nbformat_minor": 0,
  "metadata": {
    "colab": {
      "name": "quorafake.ipynb",
      "provenance": [],
      "collapsed_sections": []
    },
    "kernelspec": {
      "name": "python3",
      "display_name": "Python 3"
    }
  },
  "cells": [
    {
      "cell_type": "code",
      "metadata": {
        "id": "43wHOqmPQG_i",
        "colab_type": "code",
        "colab": {
          "base_uri": "https://localhost:8080/",
          "height": 34
        },
        "outputId": "4e83ad4b-755f-48cc-99e2-6660af900526"
      },
      "source": [
        "from keras.preprocessing.text import Tokenizer\n",
        "from keras.preprocessing.sequence import pad_sequences\n",
        "\n",
        "from keras.models import Sequential\n",
        "from keras.layers import Dense, Flatten, LSTM, Conv1D, MaxPooling1D, Dropout, Activation\n",
        "from keras.layers.embeddings import Embedding\n",
        "\n",
        "## Plot\n",
        "import plotly.offline as py\n",
        "import plotly.graph_objs as go\n",
        "py.init_notebook_mode(connected=True)\n",
        "import matplotlib as plt\n",
        "\n",
        "# NLTK\n",
        "import nltk\n",
        "from nltk.corpus import stopwords\n",
        "from nltk.stem import SnowballStemmer\n",
        "\n",
        "# Other\n",
        "import re\n",
        "import string\n",
        "import numpy as np\n",
        "import pandas as pd"
      ],
      "execution_count": null,
      "outputs": [
        {
          "output_type": "stream",
          "text": [
            "Using TensorFlow backend.\n"
          ],
          "name": "stderr"
        },
        {
          "output_type": "display_data",
          "data": {
            "text/html": [
              "        <script type=\"text/javascript\">\n",
              "        window.PlotlyConfig = {MathJaxConfig: 'local'};\n",
              "        if (window.MathJax) {MathJax.Hub.Config({SVG: {font: \"STIX-Web\"}});}\n",
              "        if (typeof require !== 'undefined') {\n",
              "        require.undef(\"plotly\");\n",
              "        requirejs.config({\n",
              "            paths: {\n",
              "                'plotly': ['https://cdn.plot.ly/plotly-latest.min']\n",
              "            }\n",
              "        });\n",
              "        require(['plotly'], function(Plotly) {\n",
              "            window._Plotly = Plotly;\n",
              "        });\n",
              "        }\n",
              "        </script>\n",
              "        "
            ]
          },
          "metadata": {
            "tags": []
          }
        }
      ]
    },
    {
      "cell_type": "code",
      "metadata": {
        "id": "6-g3xM07QLVF",
        "colab_type": "code",
        "colab": {}
      },
      "source": [
        "from google.colab import drive\n",
        "drive.mount('/content/drive')\n",
        "data=pd.read_csv(r'/content/drive/My Drive/train (2).csv')\n",
        "\n"
      ],
      "execution_count": null,
      "outputs": []
    },
    {
      "cell_type": "code",
      "metadata": {
        "id": "Rg6U9NvBQa8P",
        "colab_type": "code",
        "colab": {}
      },
      "source": [
        "data.isna().sum()\n",
        "data.drop(columns=['qid'],inplace=True)"
      ],
      "execution_count": null,
      "outputs": []
    },
    {
      "cell_type": "code",
      "metadata": {
        "id": "CWnHaWMlQnEy",
        "colab_type": "code",
        "colab": {
          "base_uri": "https://localhost:8080/",
          "height": 36
        },
        "outputId": "4d24d7df-056a-45fd-e0e0-3f977b7a2bdd"
      },
      "source": [
        "\n",
        "y_final=np.array(data['target'])\n",
        "data['question_text'][1]\n"
      ],
      "execution_count": null,
      "outputs": [
        {
          "output_type": "execute_result",
          "data": {
            "application/vnd.google.colaboratory.intrinsic": {
              "type": "string"
            },
            "text/plain": [
              "'Do you have an adopted dog, how would you encourage people to adopt and not shop?'"
            ]
          },
          "metadata": {
            "tags": []
          },
          "execution_count": 19
        }
      ]
    },
    {
      "cell_type": "code",
      "metadata": {
        "id": "njrR2Z56zcT7",
        "colab_type": "code",
        "colab": {}
      },
      "source": [
        "import nltk\n",
        "from nltk.tokenize import ToktokTokenizer\n",
        "from nltk.stem.wordnet import WordNetLemmatizer\n",
        "from nltk.corpus import stopwords\n",
        "from string import punctuation\n",
        "token=ToktokTokenizer()\n",
        "punctuation\n",
        "punct='!\"#$%&\\'()*+,-./:;<=>?@[\\\\]^_`{|}~'"
      ],
      "execution_count": null,
      "outputs": []
    },
    {
      "cell_type": "code",
      "metadata": {
        "id": "baZePISK0xzT",
        "colab_type": "code",
        "colab": {
          "base_uri": "https://localhost:8080/",
          "height": 88
        },
        "outputId": "b90bb222-45fc-4f84-99a4-fc216815f202"
      },
      "source": [
        "import nltk\n",
        "nltk.download('stopwords')\n",
        "nltk.download('wordnet')\n",
        "lemma=WordNetLemmatizer()\n",
        "stop_words = set(stopwords.words(\"english\"))"
      ],
      "execution_count": null,
      "outputs": [
        {
          "output_type": "stream",
          "text": [
            "[nltk_data] Downloading package stopwords to /root/nltk_data...\n",
            "[nltk_data]   Package stopwords is already up-to-date!\n",
            "[nltk_data] Downloading package wordnet to /root/nltk_data...\n",
            "[nltk_data]   Package wordnet is already up-to-date!\n"
          ],
          "name": "stdout"
        }
      ]
    },
    {
      "cell_type": "code",
      "metadata": {
        "id": "pRkIjHyV02Z6",
        "colab_type": "code",
        "colab": {}
      },
      "source": [
        "def lemitizeWords(text):\n",
        "    words=token.tokenize(text)\n",
        "    listLemma=[]\n",
        "    for w in words:\n",
        "        x=lemma.lemmatize(w, pos=\"v\")\n",
        "        listLemma.append(x)\n",
        "    return ' '.join(map(str, listLemma))\n",
        "\n",
        "def stopWordsRemove(text):\n",
        "    stop_words = set(stopwords.words(\"english\"))\n",
        "    words=token.tokenize(text)\n",
        "    filtered = [w for w in words if not w in stop_words]\n",
        "    return ' '.join(map(str, filtered))\n",
        "\n",
        "\n",
        "def remove_punctuations(text):\n",
        "    for punctuation in string.punctuation:\n",
        "        text = text.replace(punctuation, '')\n",
        "    return text"
      ],
      "execution_count": null,
      "outputs": []
    },
    {
      "cell_type": "code",
      "metadata": {
        "id": "7xo0dVKJ03hZ",
        "colab_type": "code",
        "colab": {}
      },
      "source": [
        "# data['question_text'] = data['question_text'].apply(lambda x: clean_punct(x)) \n",
        "\n",
        "data['question_text'] = data['question_text'].apply(lambda x: x.lower()) \n",
        "\n",
        "data['question_text'] = data['question_text'].apply(remove_punctuations)\n",
        "\n",
        "\n",
        "data['question_text'] = data['question_text'].apply(lambda x: lemitizeWords(x)) \n",
        "data['question_text'] = data['question_text'].apply(lambda x: stopWordsRemove(x)) \n"
      ],
      "execution_count": null,
      "outputs": []
    },
    {
      "cell_type": "code",
      "metadata": {
        "id": "Mflq9nPL5qkc",
        "colab_type": "code",
        "colab": {}
      },
      "source": [
        "text=data['question_text'].tolist()\n",
        "text\n",
        "token=Tokenizer()\n",
        "token.fit_on_texts(text)"
      ],
      "execution_count": null,
      "outputs": []
    },
    {
      "cell_type": "code",
      "metadata": {
        "id": "-XGmC488Dskl",
        "colab_type": "code",
        "colab": {}
      },
      "source": [
        "vocab_size=len(token.word_index)+1\n",
        "vocab_size\n",
        "\n",
        "noofwords= data['question_text'].apply(lambda x: len(x.split()))\n",
        "maxlen=max(noofwords)"
      ],
      "execution_count": null,
      "outputs": []
    },
    {
      "cell_type": "code",
      "metadata": {
        "id": "DLpFHBHD6UKh",
        "colab_type": "code",
        "colab": {}
      },
      "source": [
        "\n",
        "tokenizer = Tokenizer(num_words= vocab_size)\n",
        "tokenizer.fit_on_texts(data['question_text'])\n",
        "\n",
        "sequences = tokenizer.texts_to_sequences(data['question_text'])\n",
        "data = pad_sequences(sequences, maxlen)"
      ],
      "execution_count": null,
      "outputs": []
    },
    {
      "cell_type": "code",
      "metadata": {
        "id": "e2c2PwBnHcZ_",
        "colab_type": "code",
        "colab": {
          "base_uri": "https://localhost:8080/",
          "height": 34
        },
        "outputId": "7d96f3b5-757b-4e0c-a9fb-ffcb4e32322e"
      },
      "source": [
        "data.shape"
      ],
      "execution_count": null,
      "outputs": [
        {
          "output_type": "execute_result",
          "data": {
            "text/plain": [
              "(1306122, 152)"
            ]
          },
          "metadata": {
            "tags": []
          },
          "execution_count": 48
        }
      ]
    },
    {
      "cell_type": "code",
      "metadata": {
        "id": "vP2Fd33AHqVa",
        "colab_type": "code",
        "colab": {
          "base_uri": "https://localhost:8080/",
          "height": 34
        },
        "outputId": "372e6981-e1d4-4690-9c6e-ddd788492058"
      },
      "source": [
        "embeddings_index = dict()\n",
        "f = open(\"/content/drive/My Drive/glove.6B.100d.txt\")\n",
        "for line in f:\n",
        "    values = line.split()\n",
        "    word = values[0]\n",
        "    coefs = np.asarray(values[1:], dtype='float32')\n",
        "    embeddings_index[word] = coefs\n",
        "f.close()\n",
        "print('Loaded %s word vectors.' % len(embeddings_index))"
      ],
      "execution_count": null,
      "outputs": [
        {
          "output_type": "stream",
          "text": [
            "Loaded 400000 word vectors.\n"
          ],
          "name": "stdout"
        }
      ]
    },
    {
      "cell_type": "code",
      "metadata": {
        "id": "SwcsGzd8H597",
        "colab_type": "code",
        "colab": {}
      },
      "source": [
        "# create a weight matrix for words in training docs\n",
        "embedding_matrix = np.zeros((vocab_size, 100))\n",
        "for word, index in tokenizer.word_index.items():\n",
        "    if index > vocab_size - 1:\n",
        "        break\n",
        "    else:\n",
        "        embedding_vector = embeddings_index.get(word)\n",
        "        if embedding_vector is not None:\n",
        "            embedding_matrix[index] = embedding_vector"
      ],
      "execution_count": null,
      "outputs": []
    },
    {
      "cell_type": "code",
      "metadata": {
        "id": "1HR8-VSpIHST",
        "colab_type": "code",
        "colab": {}
      },
      "source": [
        "model_glove = Sequential()\n",
        "model_glove.add(Embedding(vocab_size, 100, input_length=152, weights=[embedding_matrix], trainable=False))\n",
        "model_glove.add(Dropout(0.2))\n",
        "model_glove.add(Conv1D(64, 5, activation='relu'))\n",
        "model_glove.add(MaxPooling1D(pool_size=4))\n",
        "model_glove.add(LSTM(100))\n",
        "model_glove.add(Dense(1, activation='sigmoid'))\n",
        "model_glove.compile(loss='binary_crossentropy', optimizer='adam', metrics=['accuracy'])"
      ],
      "execution_count": null,
      "outputs": []
    },
    {
      "cell_type": "code",
      "metadata": {
        "id": "DUp_3-GDIAPU",
        "colab_type": "code",
        "colab": {
          "base_uri": "https://localhost:8080/",
          "height": 376
        },
        "outputId": "cfa62970-66c1-4ed3-f67f-bc5470974d26"
      },
      "source": [
        "model_glove.summary()"
      ],
      "execution_count": null,
      "outputs": [
        {
          "output_type": "stream",
          "text": [
            "Model: \"sequential_1\"\n",
            "_________________________________________________________________\n",
            "Layer (type)                 Output Shape              Param #   \n",
            "=================================================================\n",
            "embedding_1 (Embedding)      (None, 152, 100)          23543600  \n",
            "_________________________________________________________________\n",
            "dropout_1 (Dropout)          (None, 152, 100)          0         \n",
            "_________________________________________________________________\n",
            "conv1d_1 (Conv1D)            (None, 148, 64)           32064     \n",
            "_________________________________________________________________\n",
            "max_pooling1d_1 (MaxPooling1 (None, 37, 64)            0         \n",
            "_________________________________________________________________\n",
            "lstm_1 (LSTM)                (None, 100)               66000     \n",
            "_________________________________________________________________\n",
            "dense_1 (Dense)              (None, 1)                 101       \n",
            "=================================================================\n",
            "Total params: 23,641,765\n",
            "Trainable params: 98,165\n",
            "Non-trainable params: 23,543,600\n",
            "_________________________________________________________________\n"
          ],
          "name": "stdout"
        }
      ]
    },
    {
      "cell_type": "code",
      "metadata": {
        "id": "dasoYJWXKhRq",
        "colab_type": "code",
        "colab": {
          "base_uri": "https://localhost:8080/",
          "height": 34
        },
        "outputId": "995d5edb-a9a7-4a55-ad78-f61127066060"
      },
      "source": [
        "# s=np.array(v['target'])\n",
        "\n",
        "X_final.shape,y_final.shape"
      ],
      "execution_count": null,
      "outputs": [
        {
          "output_type": "execute_result",
          "data": {
            "text/plain": [
              "((1306122, 152), (1306122,))"
            ]
          },
          "metadata": {
            "tags": []
          },
          "execution_count": 73
        }
      ]
    },
    {
      "cell_type": "code",
      "metadata": {
        "id": "8bTHaGbPLndv",
        "colab_type": "code",
        "colab": {}
      },
      "source": [
        "from sklearn.model_selection import train_test_split\n",
        "import numpy as np\n",
        "X_final=np.array(data)\n",
        "# y_final=np.array(v['target'])\n",
        "X_train, X_test, y_train, y_test = train_test_split(X_final, y_final, test_size=0.33, random_state=42)"
      ],
      "execution_count": null,
      "outputs": []
    },
    {
      "cell_type": "code",
      "metadata": {
        "id": "PG0W7n4QMwry",
        "colab_type": "code",
        "colab": {
          "base_uri": "https://localhost:8080/",
          "height": 34
        },
        "outputId": "93d2aa7f-2f2b-4223-895a-70403c939187"
      },
      "source": [
        "X_train.shape,y_train.shape,X_test.shape,y_test.shape"
      ],
      "execution_count": null,
      "outputs": [
        {
          "output_type": "execute_result",
          "data": {
            "text/plain": [
              "((875101, 152), (875101,), (431021, 152), (431021,))"
            ]
          },
          "metadata": {
            "tags": []
          },
          "execution_count": 76
        }
      ]
    },
    {
      "cell_type": "code",
      "metadata": {
        "id": "vn6_n1WrNOnO",
        "colab_type": "code",
        "colab": {
          "base_uri": "https://localhost:8080/",
          "height": 412
        },
        "outputId": "03d29c93-f517-4409-ccdb-14eeb257522e"
      },
      "source": [
        "model_glove.fit(X_train,y_train,validation_data=(X_test,y_test),epochs=10,batch_size=64)\n"
      ],
      "execution_count": null,
      "outputs": [
        {
          "output_type": "stream",
          "text": [
            "Train on 875101 samples, validate on 431021 samples\n",
            "Epoch 1/10\n",
            "875101/875101 [==============================] - 1597s 2ms/step - loss: 0.1327 - accuracy: 0.9494 - val_loss: 0.1195 - val_accuracy: 0.9540\n",
            "Epoch 2/10\n",
            "875101/875101 [==============================] - 1582s 2ms/step - loss: 0.1218 - accuracy: 0.9527 - val_loss: 0.1146 - val_accuracy: 0.9555\n",
            "Epoch 3/10\n",
            "875101/875101 [==============================] - 1578s 2ms/step - loss: 0.1181 - accuracy: 0.9538 - val_loss: 0.1161 - val_accuracy: 0.9553\n",
            "Epoch 4/10\n",
            "875101/875101 [==============================] - 1582s 2ms/step - loss: 0.1156 - accuracy: 0.9549 - val_loss: 0.1132 - val_accuracy: 0.9558\n",
            "Epoch 5/10\n",
            "875101/875101 [==============================] - 1588s 2ms/step - loss: 0.1140 - accuracy: 0.9555 - val_loss: 0.1132 - val_accuracy: 0.9558\n",
            "Epoch 6/10\n",
            "875101/875101 [==============================] - 1603s 2ms/step - loss: 0.1127 - accuracy: 0.9558 - val_loss: 0.1120 - val_accuracy: 0.9563\n",
            "Epoch 7/10\n",
            "875101/875101 [==============================] - 1590s 2ms/step - loss: 0.1118 - accuracy: 0.9560 - val_loss: 0.1139 - val_accuracy: 0.9551\n",
            "Epoch 8/10\n",
            "875101/875101 [==============================] - 1621s 2ms/step - loss: 0.1111 - accuracy: 0.9564 - val_loss: 0.1131 - val_accuracy: 0.9564\n",
            "Epoch 9/10\n",
            "875101/875101 [==============================] - 1594s 2ms/step - loss: 0.1104 - accuracy: 0.9565 - val_loss: 0.1130 - val_accuracy: 0.9561\n",
            "Epoch 10/10\n",
            "875101/875101 [==============================] - 1593s 2ms/step - loss: 0.1098 - accuracy: 0.9568 - val_loss: 0.1130 - val_accuracy: 0.9559\n"
          ],
          "name": "stdout"
        },
        {
          "output_type": "execute_result",
          "data": {
            "text/plain": [
              "<keras.callbacks.callbacks.History at 0x7ff829a152b0>"
            ]
          },
          "metadata": {
            "tags": []
          },
          "execution_count": 77
        }
      ]
    },
    {
      "cell_type": "code",
      "metadata": {
        "id": "8rwcoh76NbUQ",
        "colab_type": "code",
        "colab": {}
      },
      "source": [
        "y_pred=model_glove.predict_classes(X_test)\n"
      ],
      "execution_count": null,
      "outputs": []
    },
    {
      "cell_type": "code",
      "metadata": {
        "id": "ZLtc_27rKbV3",
        "colab_type": "code",
        "colab": {
          "base_uri": "https://localhost:8080/",
          "height": 34
        },
        "outputId": "00c8a7fd-1bdc-49cb-b784-fb9edb6fd4c8"
      },
      "source": [
        "\n",
        "from sklearn.metrics import accuracy_score\n",
        "accuracy_score(y_test,y_pred)"
      ],
      "execution_count": null,
      "outputs": [
        {
          "output_type": "execute_result",
          "data": {
            "text/plain": [
              "0.9559302214973284"
            ]
          },
          "metadata": {
            "tags": []
          },
          "execution_count": 79
        }
      ]
    },
    {
      "cell_type": "code",
      "metadata": {
        "id": "da8DryGmLS1E",
        "colab_type": "code",
        "colab": {
          "base_uri": "https://localhost:8080/",
          "height": 52
        },
        "outputId": "cad8ba3c-0c1f-4cf5-8327-e428183c5277"
      },
      "source": [
        "from sklearn.metrics import confusion_matrix\n",
        "\n",
        "confusion_matrix(y_test,y_pred)"
      ],
      "execution_count": null,
      "outputs": [
        {
          "output_type": "execute_result",
          "data": {
            "text/plain": [
              "array([[397845,   6899],\n",
              "       [ 12096,  14181]])"
            ]
          },
          "metadata": {
            "tags": []
          },
          "execution_count": 80
        }
      ]
    }
  ]
}